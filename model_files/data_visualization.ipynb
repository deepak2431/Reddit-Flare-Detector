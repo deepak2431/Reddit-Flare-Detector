{
 "cells": [
  {
   "cell_type": "markdown",
   "metadata": {},
   "source": [
    "### Data Visualization Notebook\n",
    "This notebook contains the code of the Univariate and Bivariate Analysis of the Reddit dataset as to see how differnt features are dependent on each other and can help to analyse while building the mdoel.\n"
   ]
  },
  {
   "cell_type": "code",
   "execution_count": 1,
   "metadata": {},
   "outputs": [],
   "source": [
    "import pandas as pd\n",
    "import numpy as np\n",
    "import datetime as dt\n",
    "import matplotlib.pyplot as plt\n",
    "import seaborn as sns\n",
    "%matplotlib inline"
   ]
  },
  {
   "cell_type": "code",
   "execution_count": 2,
   "metadata": {},
   "outputs": [],
   "source": [
    "data = pd.read_csv('reddit_data.csv')"
   ]
  },
  {
   "cell_type": "markdown",
   "metadata": {},
   "source": [
    "Since the timestamp of the data scrapped is in different format. So the get_data function converts each date into YY/MM/DD time format."
   ]
  },
  {
   "cell_type": "code",
   "execution_count": 3,
   "metadata": {},
   "outputs": [],
   "source": [
    "def get_date(created):\n",
    "    return dt.datetime.fromtimestamp(created)"
   ]
  },
  {
   "cell_type": "code",
   "execution_count": 4,
   "metadata": {},
   "outputs": [],
   "source": [
    "_timestamp = data[\"created\"].apply(get_date)"
   ]
  },
  {
   "cell_type": "code",
   "execution_count": 5,
   "metadata": {},
   "outputs": [],
   "source": [
    "data = data.assign(timestamp = _timestamp)"
   ]
  },
  {
   "cell_type": "code",
   "execution_count": 6,
   "metadata": {},
   "outputs": [
    {
     "data": {
      "text/html": [
       "<div>\n",
       "<style scoped>\n",
       "    .dataframe tbody tr th:only-of-type {\n",
       "        vertical-align: middle;\n",
       "    }\n",
       "\n",
       "    .dataframe tbody tr th {\n",
       "        vertical-align: top;\n",
       "    }\n",
       "\n",
       "    .dataframe thead th {\n",
       "        text-align: right;\n",
       "    }\n",
       "</style>\n",
       "<table border=\"1\" class=\"dataframe\">\n",
       "  <thead>\n",
       "    <tr style=\"text-align: right;\">\n",
       "      <th></th>\n",
       "      <th>title</th>\n",
       "      <th>score</th>\n",
       "      <th>id</th>\n",
       "      <th>url</th>\n",
       "      <th>comms_num</th>\n",
       "      <th>body</th>\n",
       "      <th>author</th>\n",
       "      <th>flair</th>\n",
       "      <th>comment</th>\n",
       "      <th>authors</th>\n",
       "      <th>feature_combine</th>\n",
       "      <th>timestamp</th>\n",
       "    </tr>\n",
       "  </thead>\n",
       "  <tbody>\n",
       "    <tr>\n",
       "      <th>0</th>\n",
       "      <td>men 30+ decided get married plan old age</td>\n",
       "      <td>257</td>\n",
       "      <td>fvy95j</td>\n",
       "      <td>https://www.reddit.com/r/india/comments/fvy95j...</td>\n",
       "      <td>206</td>\n",
       "      <td>corona virus given time think life choices bit...</td>\n",
       "      <td>indianoogler</td>\n",
       "      <td>AskIndia</td>\n",
       "      <td>plan finances work enjoy ways healthy go see w...</td>\n",
       "      <td>RedDevil-84 congratsindia khushraho kingof-po...</td>\n",
       "      <td>men 30+ decided get married plan old ageplan f...</td>\n",
       "      <td>2020-04-07 02:26:25</td>\n",
       "    </tr>\n",
       "    <tr>\n",
       "      <th>1</th>\n",
       "      <td>plan 5th april 9pm switch lights play bella ci...</td>\n",
       "      <td>125</td>\n",
       "      <td>fv8lt3</td>\n",
       "      <td>https://www.reddit.com/r/india/comments/fv8lt3...</td>\n",
       "      <td>82</td>\n",
       "      <td>dont like worship leaders without logic sympat...</td>\n",
       "      <td>ioup568</td>\n",
       "      <td>AskIndia</td>\n",
       "      <td>made whatsapp forward post anyone interestedpl...</td>\n",
       "      <td>AnonymousSeeker5 TablePrime69 faceofnobody no...</td>\n",
       "      <td>plan 5th april 9pm switch lights play bella ci...</td>\n",
       "      <td>2020-04-05 18:57:53</td>\n",
       "    </tr>\n",
       "    <tr>\n",
       "      <th>2</th>\n",
       "      <td>got scammed today foolishness give advice im r...</td>\n",
       "      <td>217</td>\n",
       "      <td>ftjihj</td>\n",
       "      <td>https://www.reddit.com/r/india/comments/ftjihj...</td>\n",
       "      <td>75</td>\n",
       "      <td>info meim 12th class recently registered googl...</td>\n",
       "      <td>Momos-</td>\n",
       "      <td>AskIndia</td>\n",
       "      <td>literally every message every bank says share ...</td>\n",
       "      <td>saadakhtar SerpantSociety BombayCynic iphone4...</td>\n",
       "      <td>got scammed today foolishness give advice im r...</td>\n",
       "      <td>2020-04-02 23:13:32</td>\n",
       "    </tr>\n",
       "    <tr>\n",
       "      <th>3</th>\n",
       "      <td>serious friends doctor husband become paranoid...</td>\n",
       "      <td>149</td>\n",
       "      <td>fu3f8b</td>\n",
       "      <td>https://www.reddit.com/r/india/comments/fu3f8b...</td>\n",
       "      <td>76</td>\n",
       "      <td>doctor says 100 sure virus spreading via veget...</td>\n",
       "      <td>wordswithmagic</td>\n",
       "      <td>AskIndia</td>\n",
       "      <td>1 research study 2013 https linkspringercom ar...</td>\n",
       "      <td>Neglectedsince1994 captainobvioushuman adga49...</td>\n",
       "      <td>serious friends doctor husband become paranoid...</td>\n",
       "      <td>2020-04-03 20:13:25</td>\n",
       "    </tr>\n",
       "    <tr>\n",
       "      <th>4</th>\n",
       "      <td>employer making come office even subtle pressu...</td>\n",
       "      <td>308</td>\n",
       "      <td>fjx0dq</td>\n",
       "      <td>https://www.reddit.com/r/india/comments/fjx0dq...</td>\n",
       "      <td>113</td>\n",
       "      <td>fill form 100 anonymous take less minute https...</td>\n",
       "      <td>pensker</td>\n",
       "      <td>AskIndia</td>\n",
       "      <td>good luck employer act one two people die lol ...</td>\n",
       "      <td>ekkanpuriya Death_Pig nuvo_reddit goldyprag s...</td>\n",
       "      <td>employer making come office even subtle pressu...</td>\n",
       "      <td>2020-03-17 15:28:23</td>\n",
       "    </tr>\n",
       "  </tbody>\n",
       "</table>\n",
       "</div>"
      ],
      "text/plain": [
       "                                               title  score      id  \\\n",
       "0           men 30+ decided get married plan old age    257  fvy95j   \n",
       "1  plan 5th april 9pm switch lights play bella ci...    125  fv8lt3   \n",
       "2  got scammed today foolishness give advice im r...    217  ftjihj   \n",
       "3  serious friends doctor husband become paranoid...    149  fu3f8b   \n",
       "4  employer making come office even subtle pressu...    308  fjx0dq   \n",
       "\n",
       "                                                 url  comms_num  \\\n",
       "0  https://www.reddit.com/r/india/comments/fvy95j...        206   \n",
       "1  https://www.reddit.com/r/india/comments/fv8lt3...         82   \n",
       "2  https://www.reddit.com/r/india/comments/ftjihj...         75   \n",
       "3  https://www.reddit.com/r/india/comments/fu3f8b...         76   \n",
       "4  https://www.reddit.com/r/india/comments/fjx0dq...        113   \n",
       "\n",
       "                                                body          author  \\\n",
       "0  corona virus given time think life choices bit...    indianoogler   \n",
       "1  dont like worship leaders without logic sympat...         ioup568   \n",
       "2  info meim 12th class recently registered googl...          Momos-   \n",
       "3  doctor says 100 sure virus spreading via veget...  wordswithmagic   \n",
       "4  fill form 100 anonymous take less minute https...         pensker   \n",
       "\n",
       "      flair                                            comment  \\\n",
       "0  AskIndia  plan finances work enjoy ways healthy go see w...   \n",
       "1  AskIndia  made whatsapp forward post anyone interestedpl...   \n",
       "2  AskIndia  literally every message every bank says share ...   \n",
       "3  AskIndia  1 research study 2013 https linkspringercom ar...   \n",
       "4  AskIndia  good luck employer act one two people die lol ...   \n",
       "\n",
       "                                             authors  \\\n",
       "0   RedDevil-84 congratsindia khushraho kingof-po...   \n",
       "1   AnonymousSeeker5 TablePrime69 faceofnobody no...   \n",
       "2   saadakhtar SerpantSociety BombayCynic iphone4...   \n",
       "3   Neglectedsince1994 captainobvioushuman adga49...   \n",
       "4   ekkanpuriya Death_Pig nuvo_reddit goldyprag s...   \n",
       "\n",
       "                                     feature_combine           timestamp  \n",
       "0  men 30+ decided get married plan old ageplan f... 2020-04-07 02:26:25  \n",
       "1  plan 5th april 9pm switch lights play bella ci... 2020-04-05 18:57:53  \n",
       "2  got scammed today foolishness give advice im r... 2020-04-02 23:13:32  \n",
       "3  serious friends doctor husband become paranoid... 2020-04-03 20:13:25  \n",
       "4  employer making come office even subtle pressu... 2020-03-17 15:28:23  "
      ]
     },
     "execution_count": 6,
     "metadata": {},
     "output_type": "execute_result"
    }
   ],
   "source": [
    "data = data.drop(['created'], axis=1)\n",
    "data.head()"
   ]
  },
  {
   "cell_type": "markdown",
   "metadata": {},
   "source": [
    "The data contains in total of 2528 rows and 12 columns. "
   ]
  },
  {
   "cell_type": "code",
   "execution_count": 7,
   "metadata": {},
   "outputs": [
    {
     "data": {
      "text/plain": [
       "(2528, 12)"
      ]
     },
     "execution_count": 7,
     "metadata": {},
     "output_type": "execute_result"
    }
   ],
   "source": [
    "data.shape"
   ]
  },
  {
   "cell_type": "code",
   "execution_count": 8,
   "metadata": {},
   "outputs": [
    {
     "data": {
      "text/plain": [
       "title                      object\n",
       "score                       int64\n",
       "id                         object\n",
       "url                        object\n",
       "comms_num                   int64\n",
       "body                       object\n",
       "author                     object\n",
       "flair                      object\n",
       "comment                    object\n",
       "authors                    object\n",
       "feature_combine            object\n",
       "timestamp          datetime64[ns]\n",
       "dtype: object"
      ]
     },
     "execution_count": 8,
     "metadata": {},
     "output_type": "execute_result"
    }
   ],
   "source": [
    "data.dtypes"
   ]
  },
  {
   "cell_type": "markdown",
   "metadata": {},
   "source": [
    "### Univariate Analysis of Data\n",
    "In univariate analysis of data we only consider the single feature of data for visualization."
   ]
  },
  {
   "cell_type": "markdown",
   "metadata": {},
   "source": [
    "### Bar plot of Flairs\n",
    "The bar plot of flairs give us a sense of distribution of different flairs. By having a look at the bar plot it seems that the dataset is mostly balanced. Except the AskIndia flair each of the flairs have the distribution around 200-250. This is a good way to get the sense of the dataset whether it is balanced or unbalanced."
   ]
  },
  {
   "cell_type": "code",
   "execution_count": 9,
   "metadata": {},
   "outputs": [
    {
     "data": {
      "text/plain": [
       "<matplotlib.axes._subplots.AxesSubplot at 0x1df37208>"
      ]
     },
     "execution_count": 9,
     "metadata": {},
     "output_type": "execute_result"
    },
    {
     "data": {
      "image/png": "[encoded data removed]",
      "text/plain": [
       "<Figure size 720x288 with 1 Axes>"
      ]
     },
     "metadata": {
      "needs_background": "light"
     },
     "output_type": "display_data"
    }
   ],
   "source": [
    "flair_tags = [\"AskIndia\", \"Unverified\", \"Non-Political\", \n",
    "          \"Scheduled\", \"Photography\", \"Science/Technology\",\n",
    "          \"Politics\", \"Business/Finance\", \"Policy/Economy\",\n",
    "          \"Sports\", \"Food\", \"[R]eddiquette\"]\n",
    "plt.figure(figsize=(10,4))\n",
    "data.flair.value_counts().plot(kind='bar')"
   ]
  },
  {
   "cell_type": "code",
   "execution_count": 10,
   "metadata": {},
   "outputs": [
    {
     "name": "stdout",
     "output_type": "stream",
     "text": [
      "number of duplicate rows: (123, 12)\n"
     ]
    }
   ],
   "source": [
    "duplicate_rows_df = data[data.duplicated()]\n",
    "print(\"number of duplicate rows:\", duplicate_rows_df.shape)"
   ]
  },
  {
   "cell_type": "code",
   "execution_count": 11,
   "metadata": {},
   "outputs": [
    {
     "data": {
      "text/plain": [
       "title              2528\n",
       "score              2528\n",
       "id                 2528\n",
       "url                2528\n",
       "comms_num          2528\n",
       "body               1379\n",
       "author             2528\n",
       "flair              2528\n",
       "comment            2429\n",
       "authors            2430\n",
       "feature_combine    2528\n",
       "timestamp          2528\n",
       "dtype: int64"
      ]
     },
     "execution_count": 11,
     "metadata": {},
     "output_type": "execute_result"
    }
   ],
   "source": [
    "data.count()"
   ]
  },
  {
   "cell_type": "code",
   "execution_count": 12,
   "metadata": {},
   "outputs": [
    {
     "name": "stdout",
     "output_type": "stream",
     "text": [
      "title                 0\n",
      "score                 0\n",
      "id                    0\n",
      "url                   0\n",
      "comms_num             0\n",
      "body               1149\n",
      "author                0\n",
      "flair                 0\n",
      "comment              99\n",
      "authors              98\n",
      "feature_combine       0\n",
      "timestamp             0\n",
      "dtype: int64\n"
     ]
    }
   ],
   "source": [
    "print(data.isnull().sum())"
   ]
  },
  {
   "cell_type": "markdown",
   "metadata": {},
   "source": [
    "### Score Distribution Histogram Plot\n",
    "The histogram of score distribution shows that the maximum frequency of the score falls in range 0-50. The distribution is assymetrical and skewed."
   ]
  },
  {
   "cell_type": "code",
   "execution_count": 36,
   "metadata": {},
   "outputs": [
    {
     "data": {
      "text/plain": [
       "Text(0.5, 1.0, 'Score Distribution')"
      ]
     },
     "execution_count": 36,
     "metadata": {},
     "output_type": "execute_result"
    },
    {
     "data": {
      "image/png": "[encoded data removed]",
      "text/plain": [
       "<Figure size 432x288 with 1 Axes>"
      ]
     },
     "metadata": {
      "needs_background": "light"
     },
     "output_type": "display_data"
    }
   ],
   "source": [
    "temp = data['score']\n",
    "plt.hist(x=temp, bins = np.arange(0,200,1))\n",
    "plt.xlabel('Score')\n",
    "plt.ylabel('Frequency')\n",
    "plt.title('Score Distribution')"
   ]
  },
  {
   "cell_type": "code",
   "execution_count": 37,
   "metadata": {},
   "outputs": [],
   "source": [
    "def preprocess(ReviewText):\n",
    "    ReviewText = ReviewText.str.replace(\"(<br/>)\", \"\")\n",
    "    ReviewText = ReviewText.str.replace('(<a).*(>).*(</a>)', '')\n",
    "    ReviewText = ReviewText.str.replace('(&amp)', '')\n",
    "    ReviewText = ReviewText.str.replace('(&gt)', '')\n",
    "    ReviewText = ReviewText.str.replace('(&lt)', '')\n",
    "    ReviewText = ReviewText.str.replace('(\\xa0)', ' ')  \n",
    "    return ReviewText\n",
    "data['title'] = preprocess(data['title'])\n",
    "\n",
    "data['title_len'] = data['title'].astype(str).apply(len)\n",
    "data['title_word_count'] = data['title'].apply(lambda x: len(str(x).split()))"
   ]
  },
  {
   "cell_type": "code",
   "execution_count": 38,
   "metadata": {},
   "outputs": [
    {
     "data": {
      "text/html": [
       "<div>\n",
       "<style scoped>\n",
       "    .dataframe tbody tr th:only-of-type {\n",
       "        vertical-align: middle;\n",
       "    }\n",
       "\n",
       "    .dataframe tbody tr th {\n",
       "        vertical-align: top;\n",
       "    }\n",
       "\n",
       "    .dataframe thead th {\n",
       "        text-align: right;\n",
       "    }\n",
       "</style>\n",
       "<table border=\"1\" class=\"dataframe\">\n",
       "  <thead>\n",
       "    <tr style=\"text-align: right;\">\n",
       "      <th></th>\n",
       "      <th>title</th>\n",
       "      <th>score</th>\n",
       "      <th>id</th>\n",
       "      <th>url</th>\n",
       "      <th>comms_num</th>\n",
       "      <th>body</th>\n",
       "      <th>author</th>\n",
       "      <th>flair</th>\n",
       "      <th>comment</th>\n",
       "      <th>authors</th>\n",
       "      <th>feature_combine</th>\n",
       "      <th>timestamp</th>\n",
       "      <th>title_len</th>\n",
       "      <th>title_word_count</th>\n",
       "    </tr>\n",
       "  </thead>\n",
       "  <tbody>\n",
       "    <tr>\n",
       "      <th>0</th>\n",
       "      <td>men 30+ decided get married plan old age</td>\n",
       "      <td>257</td>\n",
       "      <td>fvy95j</td>\n",
       "      <td>https://www.reddit.com/r/india/comments/fvy95j...</td>\n",
       "      <td>206</td>\n",
       "      <td>corona virus given time think life choices bit...</td>\n",
       "      <td>indianoogler</td>\n",
       "      <td>AskIndia</td>\n",
       "      <td>plan finances work enjoy ways healthy go see w...</td>\n",
       "      <td>RedDevil-84 congratsindia khushraho kingof-po...</td>\n",
       "      <td>men 30+ decided get married plan old ageplan f...</td>\n",
       "      <td>2020-04-07 02:26:25</td>\n",
       "      <td>40</td>\n",
       "      <td>8</td>\n",
       "    </tr>\n",
       "    <tr>\n",
       "      <th>1</th>\n",
       "      <td>plan 5th april 9pm switch lights play bella ci...</td>\n",
       "      <td>125</td>\n",
       "      <td>fv8lt3</td>\n",
       "      <td>https://www.reddit.com/r/india/comments/fv8lt3...</td>\n",
       "      <td>82</td>\n",
       "      <td>dont like worship leaders without logic sympat...</td>\n",
       "      <td>ioup568</td>\n",
       "      <td>AskIndia</td>\n",
       "      <td>made whatsapp forward post anyone interestedpl...</td>\n",
       "      <td>AnonymousSeeker5 TablePrime69 faceofnobody no...</td>\n",
       "      <td>plan 5th april 9pm switch lights play bella ci...</td>\n",
       "      <td>2020-04-05 18:57:53</td>\n",
       "      <td>64</td>\n",
       "      <td>12</td>\n",
       "    </tr>\n",
       "    <tr>\n",
       "      <th>2</th>\n",
       "      <td>got scammed today foolishness give advice im r...</td>\n",
       "      <td>217</td>\n",
       "      <td>ftjihj</td>\n",
       "      <td>https://www.reddit.com/r/india/comments/ftjihj...</td>\n",
       "      <td>75</td>\n",
       "      <td>info meim 12th class recently registered googl...</td>\n",
       "      <td>Momos-</td>\n",
       "      <td>AskIndia</td>\n",
       "      <td>literally every message every bank says share ...</td>\n",
       "      <td>saadakhtar SerpantSociety BombayCynic iphone4...</td>\n",
       "      <td>got scammed today foolishness give advice im r...</td>\n",
       "      <td>2020-04-02 23:13:32</td>\n",
       "      <td>70</td>\n",
       "      <td>10</td>\n",
       "    </tr>\n",
       "    <tr>\n",
       "      <th>3</th>\n",
       "      <td>serious friends doctor husband become paranoid...</td>\n",
       "      <td>149</td>\n",
       "      <td>fu3f8b</td>\n",
       "      <td>https://www.reddit.com/r/india/comments/fu3f8b...</td>\n",
       "      <td>76</td>\n",
       "      <td>doctor says 100 sure virus spreading via veget...</td>\n",
       "      <td>wordswithmagic</td>\n",
       "      <td>AskIndia</td>\n",
       "      <td>1 research study 2013 https linkspringercom ar...</td>\n",
       "      <td>Neglectedsince1994 captainobvioushuman adga49...</td>\n",
       "      <td>serious friends doctor husband become paranoid...</td>\n",
       "      <td>2020-04-03 20:13:25</td>\n",
       "      <td>90</td>\n",
       "      <td>12</td>\n",
       "    </tr>\n",
       "    <tr>\n",
       "      <th>4</th>\n",
       "      <td>employer making come office even subtle pressu...</td>\n",
       "      <td>308</td>\n",
       "      <td>fjx0dq</td>\n",
       "      <td>https://www.reddit.com/r/india/comments/fjx0dq...</td>\n",
       "      <td>113</td>\n",
       "      <td>fill form 100 anonymous take less minute https...</td>\n",
       "      <td>pensker</td>\n",
       "      <td>AskIndia</td>\n",
       "      <td>good luck employer act one two people die lol ...</td>\n",
       "      <td>ekkanpuriya Death_Pig nuvo_reddit goldyprag s...</td>\n",
       "      <td>employer making come office even subtle pressu...</td>\n",
       "      <td>2020-03-17 15:28:23</td>\n",
       "      <td>102</td>\n",
       "      <td>16</td>\n",
       "    </tr>\n",
       "  </tbody>\n",
       "</table>\n",
       "</div>"
      ],
      "text/plain": [
       "                                               title  score      id  \\\n",
       "0           men 30+ decided get married plan old age    257  fvy95j   \n",
       "1  plan 5th april 9pm switch lights play bella ci...    125  fv8lt3   \n",
       "2  got scammed today foolishness give advice im r...    217  ftjihj   \n",
       "3  serious friends doctor husband become paranoid...    149  fu3f8b   \n",
       "4  employer making come office even subtle pressu...    308  fjx0dq   \n",
       "\n",
       "                                                 url  comms_num  \\\n",
       "0  https://www.reddit.com/r/india/comments/fvy95j...        206   \n",
       "1  https://www.reddit.com/r/india/comments/fv8lt3...         82   \n",
       "2  https://www.reddit.com/r/india/comments/ftjihj...         75   \n",
       "3  https://www.reddit.com/r/india/comments/fu3f8b...         76   \n",
       "4  https://www.reddit.com/r/india/comments/fjx0dq...        113   \n",
       "\n",
       "                                                body          author  \\\n",
       "0  corona virus given time think life choices bit...    indianoogler   \n",
       "1  dont like worship leaders without logic sympat...         ioup568   \n",
       "2  info meim 12th class recently registered googl...          Momos-   \n",
       "3  doctor says 100 sure virus spreading via veget...  wordswithmagic   \n",
       "4  fill form 100 anonymous take less minute https...         pensker   \n",
       "\n",
       "      flair                                            comment  \\\n",
       "0  AskIndia  plan finances work enjoy ways healthy go see w...   \n",
       "1  AskIndia  made whatsapp forward post anyone interestedpl...   \n",
       "2  AskIndia  literally every message every bank says share ...   \n",
       "3  AskIndia  1 research study 2013 https linkspringercom ar...   \n",
       "4  AskIndia  good luck employer act one two people die lol ...   \n",
       "\n",
       "                                             authors  \\\n",
       "0   RedDevil-84 congratsindia khushraho kingof-po...   \n",
       "1   AnonymousSeeker5 TablePrime69 faceofnobody no...   \n",
       "2   saadakhtar SerpantSociety BombayCynic iphone4...   \n",
       "3   Neglectedsince1994 captainobvioushuman adga49...   \n",
       "4   ekkanpuriya Death_Pig nuvo_reddit goldyprag s...   \n",
       "\n",
       "                                     feature_combine           timestamp  \\\n",
       "0  men 30+ decided get married plan old ageplan f... 2020-04-07 02:26:25   \n",
       "1  plan 5th april 9pm switch lights play bella ci... 2020-04-05 18:57:53   \n",
       "2  got scammed today foolishness give advice im r... 2020-04-02 23:13:32   \n",
       "3  serious friends doctor husband become paranoid... 2020-04-03 20:13:25   \n",
       "4  employer making come office even subtle pressu... 2020-03-17 15:28:23   \n",
       "\n",
       "   title_len  title_word_count  \n",
       "0         40                 8  \n",
       "1         64                12  \n",
       "2         70                10  \n",
       "3         90                12  \n",
       "4        102                16  "
      ]
     },
     "execution_count": 38,
     "metadata": {},
     "output_type": "execute_result"
    }
   ],
   "source": [
    "data.head()"
   ]
  },
  {
   "cell_type": "markdown",
   "metadata": {},
   "source": [
    "### Title Word Count Histogram Plot\n",
    "The title of each posts is preprocess as to clean the text further and after that a new column is added in the dataset which represents the total word count of each title. I have done this visualization to see as what's the average word count of each posts title."
   ]
  },
  {
   "cell_type": "code",
   "execution_count": 39,
   "metadata": {},
   "outputs": [
    {
     "data": {
      "text/plain": [
       "Text(0.5, 1.0, 'Title Word Count distribution of each posts')"
      ]
     },
     "execution_count": 39,
     "metadata": {},
     "output_type": "execute_result"
    },
    {
     "data": {
      "image/png": "[encoded data removed]",
      "text/plain": [
       "<Figure size 432x288 with 1 Axes>"
      ]
     },
     "metadata": {
      "needs_background": "light"
     },
     "output_type": "display_data"
    }
   ],
   "source": [
    "temp = data['title_word_count']\n",
    "plt.hist(temp, bins = np.arange(0, 50, 1))\n",
    "plt.xlabel('Title Word Count')\n",
    "plt.ylabel('Frequency')\n",
    "plt.title('Title Word Count distribution of each posts')"
   ]
  },
  {
   "cell_type": "markdown",
   "metadata": {},
   "source": [
    "### Title Length Histogram Plot\n",
    "The title of each posts is preprocess as to clean the text further and after that a new column is added in the dataset which represents the length of each title. I have done this visualization to see as what's the average length each posts title. The plot seems kind of bi-modal distribution.\n"
   ]
  },
  {
   "cell_type": "code",
   "execution_count": 42,
   "metadata": {},
   "outputs": [
    {
     "data": {
      "text/plain": [
       "Text(0.5, 1.0, 'Title Length  distribution of each posts')"
      ]
     },
     "execution_count": 42,
     "metadata": {},
     "output_type": "execute_result"
    },
    {
     "data": {
      "image/png": "[encoded data removed]",
      "text/plain": [
       "<Figure size 432x288 with 1 Axes>"
      ]
     },
     "metadata": {
      "needs_background": "light"
     },
     "output_type": "display_data"
    }
   ],
   "source": [
    "temp = data['title_len']\n",
    "plt.hist(temp, bins = np.arange(0, 100, 1))\n",
    "plt.xlabel('Title Length')\n",
    "plt.ylabel('Frequency')\n",
    "plt.title('Title Length  distribution of each posts')"
   ]
  },
  {
   "cell_type": "code",
   "execution_count": 43,
   "metadata": {},
   "outputs": [],
   "source": [
    "data['comment'] = preprocess(data[\"comment\"])\n",
    "data['comment_len'] = data['comment'].astype(str).apply(len)\n",
    "data['comment_word_count'] = data['comment'].apply(lambda x: len(str(x).split()))"
   ]
  },
  {
   "cell_type": "code",
   "execution_count": 44,
   "metadata": {},
   "outputs": [
    {
     "data": {
      "text/html": [
       "<div>\n",
       "<style scoped>\n",
       "    .dataframe tbody tr th:only-of-type {\n",
       "        vertical-align: middle;\n",
       "    }\n",
       "\n",
       "    .dataframe tbody tr th {\n",
       "        vertical-align: top;\n",
       "    }\n",
       "\n",
       "    .dataframe thead th {\n",
       "        text-align: right;\n",
       "    }\n",
       "</style>\n",
       "<table border=\"1\" class=\"dataframe\">\n",
       "  <thead>\n",
       "    <tr style=\"text-align: right;\">\n",
       "      <th></th>\n",
       "      <th>title</th>\n",
       "      <th>score</th>\n",
       "      <th>id</th>\n",
       "      <th>url</th>\n",
       "      <th>comms_num</th>\n",
       "      <th>body</th>\n",
       "      <th>author</th>\n",
       "      <th>flair</th>\n",
       "      <th>comment</th>\n",
       "      <th>authors</th>\n",
       "      <th>feature_combine</th>\n",
       "      <th>timestamp</th>\n",
       "      <th>title_len</th>\n",
       "      <th>title_word_count</th>\n",
       "      <th>comment_len</th>\n",
       "      <th>comment_word_count</th>\n",
       "    </tr>\n",
       "  </thead>\n",
       "  <tbody>\n",
       "    <tr>\n",
       "      <th>0</th>\n",
       "      <td>men 30+ decided get married plan old age</td>\n",
       "      <td>257</td>\n",
       "      <td>fvy95j</td>\n",
       "      <td>https://www.reddit.com/r/india/comments/fvy95j...</td>\n",
       "      <td>206</td>\n",
       "      <td>corona virus given time think life choices bit...</td>\n",
       "      <td>indianoogler</td>\n",
       "      <td>AskIndia</td>\n",
       "      <td>plan finances work enjoy ways healthy go see w...</td>\n",
       "      <td>RedDevil-84 congratsindia khushraho kingof-po...</td>\n",
       "      <td>men 30+ decided get married plan old ageplan f...</td>\n",
       "      <td>2020-04-07 02:26:25</td>\n",
       "      <td>40</td>\n",
       "      <td>8</td>\n",
       "      <td>3501</td>\n",
       "      <td>524</td>\n",
       "    </tr>\n",
       "    <tr>\n",
       "      <th>1</th>\n",
       "      <td>plan 5th april 9pm switch lights play bella ci...</td>\n",
       "      <td>125</td>\n",
       "      <td>fv8lt3</td>\n",
       "      <td>https://www.reddit.com/r/india/comments/fv8lt3...</td>\n",
       "      <td>82</td>\n",
       "      <td>dont like worship leaders without logic sympat...</td>\n",
       "      <td>ioup568</td>\n",
       "      <td>AskIndia</td>\n",
       "      <td>made whatsapp forward post anyone interestedpl...</td>\n",
       "      <td>AnonymousSeeker5 TablePrime69 faceofnobody no...</td>\n",
       "      <td>plan 5th april 9pm switch lights play bella ci...</td>\n",
       "      <td>2020-04-05 18:57:53</td>\n",
       "      <td>64</td>\n",
       "      <td>12</td>\n",
       "      <td>1454</td>\n",
       "      <td>213</td>\n",
       "    </tr>\n",
       "    <tr>\n",
       "      <th>2</th>\n",
       "      <td>got scammed today foolishness give advice im r...</td>\n",
       "      <td>217</td>\n",
       "      <td>ftjihj</td>\n",
       "      <td>https://www.reddit.com/r/india/comments/ftjihj...</td>\n",
       "      <td>75</td>\n",
       "      <td>info meim 12th class recently registered googl...</td>\n",
       "      <td>Momos-</td>\n",
       "      <td>AskIndia</td>\n",
       "      <td>literally every message every bank says share ...</td>\n",
       "      <td>saadakhtar SerpantSociety BombayCynic iphone4...</td>\n",
       "      <td>got scammed today foolishness give advice im r...</td>\n",
       "      <td>2020-04-02 23:13:32</td>\n",
       "      <td>70</td>\n",
       "      <td>10</td>\n",
       "      <td>2055</td>\n",
       "      <td>338</td>\n",
       "    </tr>\n",
       "    <tr>\n",
       "      <th>3</th>\n",
       "      <td>serious friends doctor husband become paranoid...</td>\n",
       "      <td>149</td>\n",
       "      <td>fu3f8b</td>\n",
       "      <td>https://www.reddit.com/r/india/comments/fu3f8b...</td>\n",
       "      <td>76</td>\n",
       "      <td>doctor says 100 sure virus spreading via veget...</td>\n",
       "      <td>wordswithmagic</td>\n",
       "      <td>AskIndia</td>\n",
       "      <td>1 research study 2013 https linkspringercom ar...</td>\n",
       "      <td>Neglectedsince1994 captainobvioushuman adga49...</td>\n",
       "      <td>serious friends doctor husband become paranoid...</td>\n",
       "      <td>2020-04-03 20:13:25</td>\n",
       "      <td>90</td>\n",
       "      <td>12</td>\n",
       "      <td>2275</td>\n",
       "      <td>293</td>\n",
       "    </tr>\n",
       "    <tr>\n",
       "      <th>4</th>\n",
       "      <td>employer making come office even subtle pressu...</td>\n",
       "      <td>308</td>\n",
       "      <td>fjx0dq</td>\n",
       "      <td>https://www.reddit.com/r/india/comments/fjx0dq...</td>\n",
       "      <td>113</td>\n",
       "      <td>fill form 100 anonymous take less minute https...</td>\n",
       "      <td>pensker</td>\n",
       "      <td>AskIndia</td>\n",
       "      <td>good luck employer act one two people die lol ...</td>\n",
       "      <td>ekkanpuriya Death_Pig nuvo_reddit goldyprag s...</td>\n",
       "      <td>employer making come office even subtle pressu...</td>\n",
       "      <td>2020-03-17 15:28:23</td>\n",
       "      <td>102</td>\n",
       "      <td>16</td>\n",
       "      <td>2147</td>\n",
       "      <td>320</td>\n",
       "    </tr>\n",
       "  </tbody>\n",
       "</table>\n",
       "</div>"
      ],
      "text/plain": [
       "                                               title  score      id  \\\n",
       "0           men 30+ decided get married plan old age    257  fvy95j   \n",
       "1  plan 5th april 9pm switch lights play bella ci...    125  fv8lt3   \n",
       "2  got scammed today foolishness give advice im r...    217  ftjihj   \n",
       "3  serious friends doctor husband become paranoid...    149  fu3f8b   \n",
       "4  employer making come office even subtle pressu...    308  fjx0dq   \n",
       "\n",
       "                                                 url  comms_num  \\\n",
       "0  https://www.reddit.com/r/india/comments/fvy95j...        206   \n",
       "1  https://www.reddit.com/r/india/comments/fv8lt3...         82   \n",
       "2  https://www.reddit.com/r/india/comments/ftjihj...         75   \n",
       "3  https://www.reddit.com/r/india/comments/fu3f8b...         76   \n",
       "4  https://www.reddit.com/r/india/comments/fjx0dq...        113   \n",
       "\n",
       "                                                body          author  \\\n",
       "0  corona virus given time think life choices bit...    indianoogler   \n",
       "1  dont like worship leaders without logic sympat...         ioup568   \n",
       "2  info meim 12th class recently registered googl...          Momos-   \n",
       "3  doctor says 100 sure virus spreading via veget...  wordswithmagic   \n",
       "4  fill form 100 anonymous take less minute https...         pensker   \n",
       "\n",
       "      flair                                            comment  \\\n",
       "0  AskIndia  plan finances work enjoy ways healthy go see w...   \n",
       "1  AskIndia  made whatsapp forward post anyone interestedpl...   \n",
       "2  AskIndia  literally every message every bank says share ...   \n",
       "3  AskIndia  1 research study 2013 https linkspringercom ar...   \n",
       "4  AskIndia  good luck employer act one two people die lol ...   \n",
       "\n",
       "                                             authors  \\\n",
       "0   RedDevil-84 congratsindia khushraho kingof-po...   \n",
       "1   AnonymousSeeker5 TablePrime69 faceofnobody no...   \n",
       "2   saadakhtar SerpantSociety BombayCynic iphone4...   \n",
       "3   Neglectedsince1994 captainobvioushuman adga49...   \n",
       "4   ekkanpuriya Death_Pig nuvo_reddit goldyprag s...   \n",
       "\n",
       "                                     feature_combine           timestamp  \\\n",
       "0  men 30+ decided get married plan old ageplan f... 2020-04-07 02:26:25   \n",
       "1  plan 5th april 9pm switch lights play bella ci... 2020-04-05 18:57:53   \n",
       "2  got scammed today foolishness give advice im r... 2020-04-02 23:13:32   \n",
       "3  serious friends doctor husband become paranoid... 2020-04-03 20:13:25   \n",
       "4  employer making come office even subtle pressu... 2020-03-17 15:28:23   \n",
       "\n",
       "   title_len  title_word_count  comment_len  comment_word_count  \n",
       "0         40                 8         3501                 524  \n",
       "1         64                12         1454                 213  \n",
       "2         70                10         2055                 338  \n",
       "3         90                12         2275                 293  \n",
       "4        102                16         2147                 320  "
      ]
     },
     "execution_count": 44,
     "metadata": {},
     "output_type": "execute_result"
    }
   ],
   "source": [
    "data.head()"
   ]
  },
  {
   "cell_type": "code",
   "execution_count": 50,
   "metadata": {},
   "outputs": [
    {
     "data": {
      "text/plain": [
       "Text(0.5, 1.0, 'Comment Length  distribution of each posts')"
      ]
     },
     "execution_count": 50,
     "metadata": {},
     "output_type": "execute_result"
    },
    {
     "data": {
      "image/png": "[encoded data removed]",
      "text/plain": [
       "<Figure size 432x288 with 1 Axes>"
      ]
     },
     "metadata": {
      "needs_background": "light"
     },
     "output_type": "display_data"
    }
   ],
   "source": [
    "temp = data['comment_len']\n",
    "plt.hist(temp, bins = np.arange(0, 100, 1))\n",
    "plt.xlabel('Comment Length')\n",
    "plt.ylabel('Frequency')\n",
    "plt.title('Comment Length  distribution of each posts')"
   ]
  },
  {
   "cell_type": "code",
   "execution_count": 52,
   "metadata": {},
   "outputs": [
    {
     "data": {
      "text/plain": [
       "Text(0.5, 1.0, 'Comment Word Count distribution of each posts')"
      ]
     },
     "execution_count": 52,
     "metadata": {},
     "output_type": "execute_result"
    },
    {
     "data": {
      "image/png": "[encoded data removed]",
      "text/plain": [
       "<Figure size 432x288 with 1 Axes>"
      ]
     },
     "metadata": {
      "needs_background": "light"
     },
     "output_type": "display_data"
    }
   ],
   "source": [
    "temp = data['comment_word_count']\n",
    "plt.hist(temp, bins = np.arange(0, 200, 1))\n",
    "plt.xlabel('Comment Word Count')\n",
    "plt.ylabel('Frequency')\n",
    "plt.title('Comment Word Count distribution of each posts')"
   ]
  },
  {
   "cell_type": "markdown",
   "metadata": {},
   "source": [
    "### Bivariate Analysis\n",
    "Bivariate Analysis is the simulataneous analysis of two variables. It explores the concept of relationship between two variables, whether there exists an association and the strength of this association, or whether there are differences between two variables and the significance of these differences."
   ]
  },
  {
   "cell_type": "markdown",
   "metadata": {},
   "source": [
    "### Bar Plot of Average Number of Comments per post\n",
    "This plot  is between two features the flairs and the number of comments per posts. This plot was drawn to get a sense of how strongly the number of comments per post is associated with the flair. On having a look at the plot it seems that there is not a strong relationship between the two variables.\n"
   ]
  },
  {
   "cell_type": "code",
   "execution_count": 54,
   "metadata": {},
   "outputs": [
    {
     "data": {
      "text/plain": [
       "Text(0, 0.5, 'Number of comments')"
      ]
     },
     "execution_count": 54,
     "metadata": {},
     "output_type": "execute_result"
    },
    {
     "data": {
      "image/png": "[encoded data removed]",
      "text/plain": [
       "<Figure size 432x288 with 1 Axes>"
      ]
     },
     "metadata": {
      "needs_background": "light"
     },
     "output_type": "display_data"
    }
   ],
   "source": [
    "data2 = data.groupby(\"flair\").mean()[['comms_num']]\n",
    "\n",
    "data2.plot(kind='bar', legend=False, grid=True)\n",
    "plt.title(\"Average Number of comments per post\")\n",
    "\n",
    "plt.xlabel(\"Flair\")\n",
    "plt.ylabel(\"Number of comments\")"
   ]
  },
  {
   "cell_type": "markdown",
   "metadata": {},
   "source": [
    "### Bar plot of average comments word count for each posts\n",
    "This plot  is between two features the flairs and the number of comments word count for each posts. On having a look at the plot it seems that there is a strong relationship between the two variables. Average number of words can act as a good features for us during building the Machine Learning Model.\n"
   ]
  },
  {
   "cell_type": "code",
   "execution_count": 62,
   "metadata": {},
   "outputs": [
    {
     "data": {
      "text/plain": [
       "Text(0, 0.5, 'Word count of Comments')"
      ]
     },
     "execution_count": 62,
     "metadata": {},
     "output_type": "execute_result"
    },
    {
     "data": {
      "image/png": "[encoded data removed]",
      "text/plain": [
       "<Figure size 432x288 with 1 Axes>"
      ]
     },
     "metadata": {
      "needs_background": "light"
     },
     "output_type": "display_data"
    }
   ],
   "source": [
    "data2 = data.groupby(\"flair\").mean()[['comment_word_count']]\n",
    "\n",
    "data2.plot(kind='bar', legend=False, grid=True)\n",
    "plt.title(\"Average Number of comments  word count per post\")\n",
    "\n",
    "plt.xlabel(\"Flair\")\n",
    "plt.ylabel(\"Word count of Comments\")"
   ]
  },
  {
   "cell_type": "markdown",
   "metadata": {},
   "source": [
    "### Bar plot of average number of word count of title per post\n",
    "The bar plot shows that there is strong association between two variable the one the flair tags and the other the word count of title."
   ]
  },
  {
   "cell_type": "code",
   "execution_count": 57,
   "metadata": {},
   "outputs": [
    {
     "data": {
      "text/plain": [
       "Text(0, 0.5, 'Word count of Title')"
      ]
     },
     "execution_count": 57,
     "metadata": {},
     "output_type": "execute_result"
    },
    {
     "data": {
      "image/png": "[encoded data removed]",
      "text/plain": [
       "<Figure size 432x288 with 1 Axes>"
      ]
     },
     "metadata": {
      "needs_background": "light"
     },
     "output_type": "display_data"
    }
   ],
   "source": [
    "data2 = data.groupby(\"flair\").mean()[['title_word_count']]\n",
    "\n",
    "data2.plot(kind='bar', legend=False, grid=True)\n",
    "plt.title(\"Average Number of title word count per post\")\n",
    "\n",
    "plt.xlabel(\"Flair\")\n",
    "plt.ylabel(\"Word count of Title\")"
   ]
  },
  {
   "cell_type": "code",
   "execution_count": 58,
   "metadata": {},
   "outputs": [],
   "source": [
    "data['body'] = preprocess(data[\"body\"])\n",
    "data['body_len'] = data['body'].astype(str).apply(len)\n",
    "data['body_word_count'] = data['body'].apply(lambda x: len(str(x).split()))"
   ]
  },
  {
   "cell_type": "code",
   "execution_count": 59,
   "metadata": {},
   "outputs": [
    {
     "data": {
      "text/html": [
       "<div>\n",
       "<style scoped>\n",
       "    .dataframe tbody tr th:only-of-type {\n",
       "        vertical-align: middle;\n",
       "    }\n",
       "\n",
       "    .dataframe tbody tr th {\n",
       "        vertical-align: top;\n",
       "    }\n",
       "\n",
       "    .dataframe thead th {\n",
       "        text-align: right;\n",
       "    }\n",
       "</style>\n",
       "<table border=\"1\" class=\"dataframe\">\n",
       "  <thead>\n",
       "    <tr style=\"text-align: right;\">\n",
       "      <th></th>\n",
       "      <th>title</th>\n",
       "      <th>score</th>\n",
       "      <th>id</th>\n",
       "      <th>url</th>\n",
       "      <th>comms_num</th>\n",
       "      <th>body</th>\n",
       "      <th>author</th>\n",
       "      <th>flair</th>\n",
       "      <th>comment</th>\n",
       "      <th>authors</th>\n",
       "      <th>feature_combine</th>\n",
       "      <th>timestamp</th>\n",
       "      <th>title_len</th>\n",
       "      <th>title_word_count</th>\n",
       "      <th>comment_len</th>\n",
       "      <th>comment_word_count</th>\n",
       "      <th>body_len</th>\n",
       "      <th>body_word_count</th>\n",
       "    </tr>\n",
       "  </thead>\n",
       "  <tbody>\n",
       "    <tr>\n",
       "      <th>0</th>\n",
       "      <td>men 30+ decided get married plan old age</td>\n",
       "      <td>257</td>\n",
       "      <td>fvy95j</td>\n",
       "      <td>https://www.reddit.com/r/india/comments/fvy95j...</td>\n",
       "      <td>206</td>\n",
       "      <td>corona virus given time think life choices bit...</td>\n",
       "      <td>indianoogler</td>\n",
       "      <td>AskIndia</td>\n",
       "      <td>plan finances work enjoy ways healthy go see w...</td>\n",
       "      <td>RedDevil-84 congratsindia khushraho kingof-po...</td>\n",
       "      <td>men 30+ decided get married plan old ageplan f...</td>\n",
       "      <td>2020-04-07 02:26:25</td>\n",
       "      <td>40</td>\n",
       "      <td>8</td>\n",
       "      <td>3501</td>\n",
       "      <td>524</td>\n",
       "      <td>346</td>\n",
       "      <td>55</td>\n",
       "    </tr>\n",
       "    <tr>\n",
       "      <th>1</th>\n",
       "      <td>plan 5th april 9pm switch lights play bella ci...</td>\n",
       "      <td>125</td>\n",
       "      <td>fv8lt3</td>\n",
       "      <td>https://www.reddit.com/r/india/comments/fv8lt3...</td>\n",
       "      <td>82</td>\n",
       "      <td>dont like worship leaders without logic sympat...</td>\n",
       "      <td>ioup568</td>\n",
       "      <td>AskIndia</td>\n",
       "      <td>made whatsapp forward post anyone interestedpl...</td>\n",
       "      <td>AnonymousSeeker5 TablePrime69 faceofnobody no...</td>\n",
       "      <td>plan 5th april 9pm switch lights play bella ci...</td>\n",
       "      <td>2020-04-05 18:57:53</td>\n",
       "      <td>64</td>\n",
       "      <td>12</td>\n",
       "      <td>1454</td>\n",
       "      <td>213</td>\n",
       "      <td>1121</td>\n",
       "      <td>163</td>\n",
       "    </tr>\n",
       "    <tr>\n",
       "      <th>2</th>\n",
       "      <td>got scammed today foolishness give advice im r...</td>\n",
       "      <td>217</td>\n",
       "      <td>ftjihj</td>\n",
       "      <td>https://www.reddit.com/r/india/comments/ftjihj...</td>\n",
       "      <td>75</td>\n",
       "      <td>info meim 12th class recently registered googl...</td>\n",
       "      <td>Momos-</td>\n",
       "      <td>AskIndia</td>\n",
       "      <td>literally every message every bank says share ...</td>\n",
       "      <td>saadakhtar SerpantSociety BombayCynic iphone4...</td>\n",
       "      <td>got scammed today foolishness give advice im r...</td>\n",
       "      <td>2020-04-02 23:13:32</td>\n",
       "      <td>70</td>\n",
       "      <td>10</td>\n",
       "      <td>2055</td>\n",
       "      <td>338</td>\n",
       "      <td>1669</td>\n",
       "      <td>267</td>\n",
       "    </tr>\n",
       "    <tr>\n",
       "      <th>3</th>\n",
       "      <td>serious friends doctor husband become paranoid...</td>\n",
       "      <td>149</td>\n",
       "      <td>fu3f8b</td>\n",
       "      <td>https://www.reddit.com/r/india/comments/fu3f8b...</td>\n",
       "      <td>76</td>\n",
       "      <td>doctor says 100 sure virus spreading via veget...</td>\n",
       "      <td>wordswithmagic</td>\n",
       "      <td>AskIndia</td>\n",
       "      <td>1 research study 2013 https linkspringercom ar...</td>\n",
       "      <td>Neglectedsince1994 captainobvioushuman adga49...</td>\n",
       "      <td>serious friends doctor husband become paranoid...</td>\n",
       "      <td>2020-04-03 20:13:25</td>\n",
       "      <td>90</td>\n",
       "      <td>12</td>\n",
       "      <td>2275</td>\n",
       "      <td>293</td>\n",
       "      <td>463</td>\n",
       "      <td>68</td>\n",
       "    </tr>\n",
       "    <tr>\n",
       "      <th>4</th>\n",
       "      <td>employer making come office even subtle pressu...</td>\n",
       "      <td>308</td>\n",
       "      <td>fjx0dq</td>\n",
       "      <td>https://www.reddit.com/r/india/comments/fjx0dq...</td>\n",
       "      <td>113</td>\n",
       "      <td>fill form 100 anonymous take less minute https...</td>\n",
       "      <td>pensker</td>\n",
       "      <td>AskIndia</td>\n",
       "      <td>good luck employer act one two people die lol ...</td>\n",
       "      <td>ekkanpuriya Death_Pig nuvo_reddit goldyprag s...</td>\n",
       "      <td>employer making come office even subtle pressu...</td>\n",
       "      <td>2020-03-17 15:28:23</td>\n",
       "      <td>102</td>\n",
       "      <td>16</td>\n",
       "      <td>2147</td>\n",
       "      <td>320</td>\n",
       "      <td>885</td>\n",
       "      <td>118</td>\n",
       "    </tr>\n",
       "  </tbody>\n",
       "</table>\n",
       "</div>"
      ],
      "text/plain": [
       "                                               title  score      id  \\\n",
       "0           men 30+ decided get married plan old age    257  fvy95j   \n",
       "1  plan 5th april 9pm switch lights play bella ci...    125  fv8lt3   \n",
       "2  got scammed today foolishness give advice im r...    217  ftjihj   \n",
       "3  serious friends doctor husband become paranoid...    149  fu3f8b   \n",
       "4  employer making come office even subtle pressu...    308  fjx0dq   \n",
       "\n",
       "                                                 url  comms_num  \\\n",
       "0  https://www.reddit.com/r/india/comments/fvy95j...        206   \n",
       "1  https://www.reddit.com/r/india/comments/fv8lt3...         82   \n",
       "2  https://www.reddit.com/r/india/comments/ftjihj...         75   \n",
       "3  https://www.reddit.com/r/india/comments/fu3f8b...         76   \n",
       "4  https://www.reddit.com/r/india/comments/fjx0dq...        113   \n",
       "\n",
       "                                                body          author  \\\n",
       "0  corona virus given time think life choices bit...    indianoogler   \n",
       "1  dont like worship leaders without logic sympat...         ioup568   \n",
       "2  info meim 12th class recently registered googl...          Momos-   \n",
       "3  doctor says 100 sure virus spreading via veget...  wordswithmagic   \n",
       "4  fill form 100 anonymous take less minute https...         pensker   \n",
       "\n",
       "      flair                                            comment  \\\n",
       "0  AskIndia  plan finances work enjoy ways healthy go see w...   \n",
       "1  AskIndia  made whatsapp forward post anyone interestedpl...   \n",
       "2  AskIndia  literally every message every bank says share ...   \n",
       "3  AskIndia  1 research study 2013 https linkspringercom ar...   \n",
       "4  AskIndia  good luck employer act one two people die lol ...   \n",
       "\n",
       "                                             authors  \\\n",
       "0   RedDevil-84 congratsindia khushraho kingof-po...   \n",
       "1   AnonymousSeeker5 TablePrime69 faceofnobody no...   \n",
       "2   saadakhtar SerpantSociety BombayCynic iphone4...   \n",
       "3   Neglectedsince1994 captainobvioushuman adga49...   \n",
       "4   ekkanpuriya Death_Pig nuvo_reddit goldyprag s...   \n",
       "\n",
       "                                     feature_combine           timestamp  \\\n",
       "0  men 30+ decided get married plan old ageplan f... 2020-04-07 02:26:25   \n",
       "1  plan 5th april 9pm switch lights play bella ci... 2020-04-05 18:57:53   \n",
       "2  got scammed today foolishness give advice im r... 2020-04-02 23:13:32   \n",
       "3  serious friends doctor husband become paranoid... 2020-04-03 20:13:25   \n",
       "4  employer making come office even subtle pressu... 2020-03-17 15:28:23   \n",
       "\n",
       "   title_len  title_word_count  comment_len  comment_word_count  body_len  \\\n",
       "0         40                 8         3501                 524       346   \n",
       "1         64                12         1454                 213      1121   \n",
       "2         70                10         2055                 338      1669   \n",
       "3         90                12         2275                 293       463   \n",
       "4        102                16         2147                 320       885   \n",
       "\n",
       "   body_word_count  \n",
       "0               55  \n",
       "1              163  \n",
       "2              267  \n",
       "3               68  \n",
       "4              118  "
      ]
     },
     "execution_count": 59,
     "metadata": {},
     "output_type": "execute_result"
    }
   ],
   "source": [
    "data.head()"
   ]
  },
  {
   "cell_type": "markdown",
   "metadata": {},
   "source": [
    "### Bar plot of body length of each posts per flair category\n",
    "The body of each posts flair is further preprocessed to clean the text and calculate the length of the body text. The bar plot shows that there may exist a strong relationship between both the variables the one flair and the other the body text length."
   ]
  },
  {
   "cell_type": "code",
   "execution_count": 60,
   "metadata": {},
   "outputs": [
    {
     "data": {
      "text/plain": [
       "Text(0, 0.5, 'Body length')"
      ]
     },
     "execution_count": 60,
     "metadata": {},
     "output_type": "execute_result"
    },
    {
     "data": {
      "image/png": "[encoded data removed]",
      "text/plain": [
       "<Figure size 432x288 with 1 Axes>"
      ]
     },
     "metadata": {
      "needs_background": "light"
     },
     "output_type": "display_data"
    }
   ],
   "source": [
    "data2 = data.groupby(\"flair\").mean()[['body_len']]\n",
    "\n",
    "data2.plot(kind='bar', legend=False, grid=True)\n",
    "plt.title(\"Average Number of body length per post\")\n",
    "\n",
    "plt.xlabel(\"Flair\")\n",
    "plt.ylabel(\"Body length\")"
   ]
  },
  {
   "cell_type": "markdown",
   "metadata": {},
   "source": [
    "### Bar plot of body word count for each of the posts\n"
   ]
  },
  {
   "cell_type": "code",
   "execution_count": 61,
   "metadata": {},
   "outputs": [
    {
     "data": {
      "text/plain": [
       "Text(0, 0.5, 'Body Word Count')"
      ]
     },
     "execution_count": 61,
     "metadata": {},
     "output_type": "execute_result"
    },
    {
     "data": {
      "image/png": "[encoded data removed]",
      "text/plain": [
       "<Figure size 432x288 with 1 Axes>"
      ]
     },
     "metadata": {
      "needs_background": "light"
     },
     "output_type": "display_data"
    }
   ],
   "source": [
    "data2 = data.groupby(\"flair\").mean()[['body_word_count']]\n",
    "\n",
    "data2.plot(kind='bar', legend=False, grid=True)\n",
    "plt.title(\"Average Number of body word count per post\")\n",
    "\n",
    "plt.xlabel(\"Flair\")\n",
    "plt.ylabel(\"Body Word Count\")"
   ]
  },
  {
   "cell_type": "code",
   "execution_count": null,
   "metadata": {},
   "outputs": [],
   "source": []
  }
 ],
 "metadata": {
  "kernelspec": {
   "display_name": "Python 3",
   "language": "python",
   "name": "python3"
  },
  "language_info": {
   "codemirror_mode": {
    "name": "ipython",
    "version": 3
   },
   "file_extension": ".py",
   "mimetype": "text/x-python",
   "name": "python",
   "nbconvert_exporter": "python",
   "pygments_lexer": "ipython3",
   "version": "3.8.2"
  }
 },
 "nbformat": 4,
 "nbformat_minor": 4
}
